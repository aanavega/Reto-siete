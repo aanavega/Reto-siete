{
 "cells": [
  {
   "cell_type": "markdown",
   "metadata": {},
   "source": [
    "# Reto-siete\n",
    "\n",
    "A continuacion los codigos propuestos del reto siete, cada uno con su arhivo.py individual y un notebook con todos estos incluidos:"
   ]
  },
  {
   "cell_type": "markdown",
   "metadata": {},
   "source": [
    "### Codigo numero 1\n",
    "\n",
    "- Imprimir un listado con los números del 1 al 100 cada uno con su respectivo cuadrado."
   ]
  },
  {
   "cell_type": "code",
   "execution_count": null,
   "metadata": {},
   "outputs": [],
   "source": [
    "# Definir desde que valor se evaluara la condicion\n",
    "i : int = 1\n",
    "\n",
    "# Definir la condicion del bucle\n",
    "while(i <= 100):\n",
    "  cuadrado = i**2\n",
    "  print(\"Numero: \" + str(i) + \" y su cuadrado: \" + str(cuadrado))\n",
    "\n",
    "# Incrementar el valor para que complete el bucle\n",
    "  i += 1"
   ]
  }
 ],
 "metadata": {
  "language_info": {
   "name": "python"
  }
 },
 "nbformat": 4,
 "nbformat_minor": 2
}
